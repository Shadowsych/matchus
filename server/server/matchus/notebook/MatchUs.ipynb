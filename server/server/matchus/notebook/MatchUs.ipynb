{
  "nbformat": 4,
  "nbformat_minor": 0,
  "metadata": {
    "colab": {
      "name": "MatchUs.ipynb",
      "provenance": [],
      "collapsed_sections": []
    },
    "kernelspec": {
      "name": "python3",
      "display_name": "Python 3"
    }
  },
  "cells": [
    {
      "cell_type": "code",
      "metadata": {
        "id": "J-Hy8aViM3ni",
        "outputId": "c1b9ae8a-06f4-4059-d456-d46e59ad3cbb",
        "colab": {
          "base_uri": "https://localhost:8080/"
        }
      },
      "source": [
        "import nltk\n",
        "nltk.download('punkt')"
      ],
      "execution_count": 1,
      "outputs": [
        {
          "output_type": "stream",
          "text": [
            "[nltk_data] Downloading package punkt to /root/nltk_data...\n",
            "[nltk_data]   Package punkt is already up-to-date!\n"
          ],
          "name": "stdout"
        },
        {
          "output_type": "execute_result",
          "data": {
            "text/plain": [
              "True"
            ]
          },
          "metadata": {
            "tags": []
          },
          "execution_count": 1
        }
      ]
    },
    {
      "cell_type": "code",
      "metadata": {
        "id": "szhei9_6LmxR"
      },
      "source": [
        "from nltk.tokenize import sent_tokenize\n",
        "import warnings\n",
        "\n",
        "warnings.filterwarnings(action = 'ignore')\n",
        "\n",
        "import gensim\n",
        "from gensim.models import Word2Vec"
      ],
      "execution_count": 2,
      "outputs": []
    },
    {
      "cell_type": "code",
      "metadata": {
        "id": "I3YR0Ey5bvRP"
      },
      "source": [
        "import threading\n",
        "from functools import cmp_to_key"
      ],
      "execution_count": 3,
      "outputs": []
    },
    {
      "cell_type": "markdown",
      "metadata": {
        "id": "7ac2J9GLPT-d"
      },
      "source": [
        "# Word2Vec Algorithm\n",
        "1. Combine all the interests of user A and user B into a large sentence.  \n",
        "2. Run the Word2Vec model on the data set using the tokenized sentences.  \n",
        "3. Then compare each sentence between the users, and only use the largest cosine similarity between any two sentenes.\n",
        "4. Receive the mean similarity between the two users.\n",
        "5. How large the mean similarity is determines whether user A and user B have similar interests."
      ]
    },
    {
      "cell_type": "code",
      "metadata": {
        "id": "1FBKlT0JY2rC"
      },
      "source": [
        "def similarity(user_A, user_B):\n",
        "  \"\"\"\n",
        "  Returns the cosine similarity between two users' interests.\n",
        "  \"\"\"\n",
        "\n",
        "  \"\"\"\n",
        "  skipgram model because it's better at predicting context and better for smaller data sets\n",
        "  https://stackoverflow.com/questions/38287772/cbow-v-s-skip-gram-why-invert-context-and-target-words\n",
        "  \"\"\"\n",
        "  data = [user_A, user_B]\n",
        "  model = gensim.models.Word2Vec(data, min_count = 1, size = 100, window = 5, sg = 1)\n",
        "\n",
        "  total_similarity = 0\n",
        "\n",
        "  for sentence_A in user_A:\n",
        "    largest_similarity = -1\n",
        "\n",
        "    # use the sentence pair with the largest similarity\n",
        "    for sentence_B in user_B:\n",
        "      similarity = model.similarity(sentence_A, sentence_B)\n",
        "      if similarity > largest_similarity:\n",
        "        largest_similarity = similarity\n",
        "\n",
        "    total_similarity += largest_similarity\n",
        "\n",
        "    # return the mean similarity between the two users\n",
        "    return total_similarity / len(user_A)"
      ],
      "execution_count": 4,
      "outputs": []
    },
    {
      "cell_type": "markdown",
      "metadata": {
        "id": "iHT7QDc8a9s4"
      },
      "source": [
        "# Multi-Threaded Process\n",
        "We need to multi-thread the process of comparing user A with other users.\n",
        "\n",
        "Then rank the users from highest similar (at start of list) to lowest similar (at end of list)."
      ]
    },
    {
      "cell_type": "code",
      "metadata": {
        "id": "1am15Fr8Z7CW"
      },
      "source": [
        "def similarity_matrix(user_A, *compare_users):\n",
        "  \"\"\"\n",
        "  Multi-threaded process that returns the similarity of users with user A.\n",
        "  \"\"\"\n",
        "\n",
        "  similarity_matrix = [0] * len(compare_users)\n",
        "\n",
        "  def set_similarity(user_A, user_B, similarity_matrix, index):\n",
        "    try:\n",
        "      similarity_matrix[index] = { \"index\": index, \"similarity\": similarity(user_A, user_B) }\n",
        "    except Exception as e:\n",
        "      print(e)\n",
        "\n",
        "  threads = []\n",
        "  for index, compare_user in enumerate(compare_users):\n",
        "    user_thread = threading.Thread(target=set_similarity, args=[user_A, compare_user, similarity_matrix, index])\n",
        "    threads.append(user_thread)\n",
        "\n",
        "  # start each thread\n",
        "  for thread in threads:\n",
        "    thread.start()\n",
        "\n",
        "  # wait for each thread to finish\n",
        "  for thread in threads:\n",
        "    thread.join()\n",
        "\n",
        "  def cmp_similarity(a, b):\n",
        "    return 1 if a[\"similarity\"] < b[\"similarity\"] else -1\n",
        "\n",
        "  return sorted(similarity_matrix, key=cmp_to_key(cmp_similarity))\n",
        "  "
      ],
      "execution_count": 5,
      "outputs": []
    },
    {
      "cell_type": "code",
      "metadata": {
        "id": "jM97zHkcL1H4"
      },
      "source": [
        "user_A = [\"I like to code.\", \"I like to hike.\", \"I like to cook.\"]\n",
        "user_B = [\"I like to program.\", \"I like to bike.\", \"I like to eat.\"]\n",
        "user_C = [\"Running\", \"Talking with people\", \"Movies\"]\n",
        "user_D = [\"Sports\", \"Cooking\", \"Video Games\"]"
      ],
      "execution_count": 6,
      "outputs": []
    },
    {
      "cell_type": "code",
      "metadata": {
        "id": "4T9YBXK0cKMx",
        "outputId": "25c2a7a1-82d4-41e1-bee2-0f97ba71fe5a",
        "colab": {
          "base_uri": "https://localhost:8080/"
        }
      },
      "source": [
        "similarity_matrix(user_A, user_B, user_C, user_D)"
      ],
      "execution_count": 7,
      "outputs": [
        {
          "output_type": "execute_result",
          "data": {
            "text/plain": [
              "[{'index': 2, 'similarity': 0.08555739124615987},\n",
              " {'index': 1, 'similarity': 0.03714261204004288},\n",
              " {'index': 0, 'similarity': 0.022247376541296642}]"
            ]
          },
          "metadata": {
            "tags": []
          },
          "execution_count": 7
        }
      ]
    },
    {
      "cell_type": "code",
      "metadata": {
        "id": "iZ2sDFnGfVzz"
      },
      "source": [
        ""
      ],
      "execution_count": 7,
      "outputs": []
    }
  ]
}